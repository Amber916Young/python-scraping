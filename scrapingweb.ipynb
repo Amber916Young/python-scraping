{
 "cells": [
  {
   "cell_type": "code",
   "execution_count": 1,
   "metadata": {},
   "outputs": [],
   "source": [
    "from bs4 import BeautifulSoup\n",
    "import pandas\n"
   ]
  },
  {
   "cell_type": "code",
   "execution_count": 4,
   "metadata": {},
   "outputs": [
    {
     "name": "stdout",
     "output_type": "stream",
     "text": [
      "\n",
      " data successfully written to Excel.\n",
      "\n",
      "Quitting the program. Bye !\n"
     ]
    }
   ],
   "source": [
    "\n",
    "with open('test.html') as file:\n",
    "    html = file.read()\n",
    "\n",
    "result = BeautifulSoup(html, 'html.parser')\n",
    "\n",
    "\n",
    "\n",
    "#Identifying the products on the page by the div tag and the class name \n",
    "titleDivs = result.find_all(\"div\", {\"class\": \"BzW4IVtQ-UGvCElYA-2WwA== ufh8Z+BZXKljZ1cO0g0orA== ZxhfuEKQi2O0GyXVY0sunA==\"})\n",
    "specTitles = result.find_all(\"div\", {\"class\": \"Uik1O-SC6rJ5mY6-ps85PA==\"})\n",
    "list1 =[] \n",
    "list2 = []\n",
    "#Iterating over the list of products and extracting the necessary info\n",
    "for item in titleDivs:\n",
    "    stateName = item.find(\"span\").string.replace('\\n', ' ').replace('\\r', '')\n",
    "    clean_text = ' '.join(stateName.split())\n",
    "\n",
    "    div = item.find(\"div\")\n",
    "    spans = div.find_all('span')\n",
    "    QYT = \"\"\n",
    "    for span in spans:\n",
    "        # Add a space after each <span> element\n",
    "        QYT += span.text +\" \"\n",
    "    \n",
    "    clean_text2=  ' '.join(QYT.split())\n",
    "    # print(clean_text2)\n",
    "\n",
    "    list1.append(clean_text)\n",
    "    list2.append(clean_text2)\n",
    "\n",
    "\n",
    "data = list(zip(list1,list2))\n",
    "\n",
    "\n",
    "d= pandas.DataFrame(data, columns= [\"Product_name\", \"Description\"])\n",
    "\n",
    "try: \n",
    "    d.to_excel(\"text.xlsx\")\n",
    "except:\n",
    "    print(\"\\nSomething went wrong ! Please check code / Internet Connection\")\n",
    "else:\n",
    "    print(\"\\n data successfully written to Excel.\")\n",
    "finally:\n",
    "    print(\"\\nQuitting the program. Bye !\")\n",
    "\n"
   ]
  }
 ],
 "metadata": {
  "kernelspec": {
   "display_name": "Python 3",
   "language": "python",
   "name": "python3"
  },
  "language_info": {
   "codemirror_mode": {
    "name": "ipython",
    "version": 3
   },
   "file_extension": ".py",
   "mimetype": "text/x-python",
   "name": "python",
   "nbconvert_exporter": "python",
   "pygments_lexer": "ipython3",
   "version": "3.10.3 (main, Jan 24 2023, 16:11:58) [Clang 14.0.0 (clang-1400.0.29.202)]"
  },
  "orig_nbformat": 4,
  "vscode": {
   "interpreter": {
    "hash": "de99c3bf2fd6cb7b47f4dab0e1fcb870e0e3e5a2c26cb522108618628957b548"
   }
  }
 },
 "nbformat": 4,
 "nbformat_minor": 2
}
