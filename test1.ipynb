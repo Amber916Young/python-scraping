{
 "cells": [
  {
   "cell_type": "code",
   "execution_count": null,
   "metadata": {},
   "outputs": [],
   "source": [
    "from bs4 import BeautifulSoup\n",
    "import pandas\n"
   ]
  },
  {
   "cell_type": "code",
   "execution_count": null,
   "metadata": {},
   "outputs": [],
   "source": [
    "\n",
    "with open('path/to/your/file.html') as file:\n",
    "    html = file.read()\n",
    "\n",
    "result = BeautifulSoup(html, 'html.parser')\n",
    "\n"
   ]
  },
  {
   "cell_type": "code",
   "execution_count": null,
   "metadata": {},
   "outputs": [],
   "source": [
    "\n",
    "\n",
    "#Identifying the products on the page by the div tag and the class name \n",
    "covid19StatesAffected = result.find_all(\"div\", {\"class\": \"field field-name-field-select-state field-type-list-text field-label-above\"})\n",
    "covid19totalConfirmed = result.find_all(\"div\", {\"class\": \"field field-name-field-total-confirmed-indians field-type-number-integer field-label-above\"})\n",
    "covid19curedDischarged = result.find_all(\"div\", {\"class\":\"field field-name-field-cured field-type-number-integer field-label-above\"})\n",
    "covid19totalDeath = result.find_all(\"div\", {\"class\":\"field field-name-field-deaths field-type-number-integer field-label-above\"})\n",
    "covid19epassLink = result.find_all(\"div\", {\"class\": \"field field-name-field-e-pass-url field-type-text field-label-above\"})\n",
    "state_Name =[] \n",
    "total_confirmed = []\n",
    "total_cured_discharged_migrated = []\n",
    "total_death =[]\n",
    "e_pass = []\n",
    "#Iterating over the list of products and extracting the necessary info\n",
    "for item in covid19StatesAffected:\n",
    "    stateName = item.find(\"div\", { \"class\" : \"field-items\"}).string\n",
    "    state_Name.append(stateName)\n",
    "\n",
    "for item in covid19totalConfirmed : \n",
    "    totalConfirmed = item.find(\"div\", { \"class\" : \"field-items\"}).string\n",
    "    total_confirmed.append(totalConfirmed)\n",
    "\n",
    "for item in covid19curedDischarged :\n",
    "    totalDischarged = item.find(\"div\", {\"class\" : \"field-items\"}).string\n",
    "    total_cured_discharged_migrated.append(totalDischarged)\n",
    "\n",
    "for item in covid19totalDeath :\n",
    "    totalDeath = item.find(\"div\", {\"class\" : \"field-items\"}).string\n",
    "    total_death.append(totalDeath)\n",
    "\n",
    "for item in covid19epassLink : \n",
    "    epass =   item.find(\"div\", {\"class\" : \"field-items\"}).string\n",
    "    e_pass.append(epass);\n",
    "\n",
    "data = list(zip(state_Name,total_confirmed,total_cured_discharged_migrated, total_death,e_pass))\n",
    "\n",
    "#creating the pandas dataframe\n",
    "\n",
    "d= pandas.DataFrame(data, columns= [\"State Name\", \"Total Confirmed\", \"Cured/ Discharged/ Migrated\", \"Death\", \"E-Pass Links\"])\n",
    "\n",
    "# Writing the data frame to a new Excel File \n",
    "try: \n",
    "    d.to_excel(\"Covid19IndiaData.xlsx\")\n",
    "except:\n",
    "    print(\"\\nSomething went wrong ! Please check code / Internet Connection\")\n",
    "else:\n",
    "    print(\"\\ncovid data successfully written to Excel.\")\n",
    "finally:\n",
    "    print(\"\\nQuitting the program. Bye !\")\n",
    "\n",
    "#End of program\n",
    "\n",
    "\n",
    "\n",
    "\n",
    "\n",
    "\n",
    "\n",
    "\n",
    "\n",
    "\n",
    "\n",
    "\n",
    "\n",
    "\n",
    "\n",
    "\n",
    "\n",
    "\n",
    "\n",
    "\n",
    "\n",
    "\n",
    "\n",
    "\n"
   ]
  }
 ],
 "metadata": {
  "kernelspec": {
   "display_name": "Python 3",
   "language": "python",
   "name": "python3"
  },
  "language_info": {
   "name": "python",
   "version": "3.10.3 (main, Jan 24 2023, 16:11:58) [Clang 14.0.0 (clang-1400.0.29.202)]"
  },
  "orig_nbformat": 4,
  "vscode": {
   "interpreter": {
    "hash": "de99c3bf2fd6cb7b47f4dab0e1fcb870e0e3e5a2c26cb522108618628957b548"
   }
  }
 },
 "nbformat": 4,
 "nbformat_minor": 2
}
